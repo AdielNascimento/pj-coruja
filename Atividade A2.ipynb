{
 "cells": [
  {
   "cell_type": "markdown",
   "metadata": {},
   "source": [
    "Índice"
   ]
  },
  {
   "cell_type": "markdown",
   "metadata": {},
   "source": [
    "Adiel Dos Santos Nascimento - 201504940002"
   ]
  },
  {
   "cell_type": "markdown",
   "metadata": {},
   "source": [
    "- [Descrição da Atividade](#Descrição-da-Atividade)"
   ]
  },
  {
   "cell_type": "code",
   "execution_count": null,
   "metadata": {},
   "outputs": [],
   "source": [
    "#pathFileImages = 'C:/Users/claud/OneDrive/Documentos/Figuras Matemática Computacional/Erros/'\n",
    "\n",
    "pathFileImages = 'C:/Users/claud/Dropbox/RepoGit/disciplina/temp/MatematicaComputacionalUFPA/Noções Básicas sobre Erros/Figuras Representação/'\n",
    "\n",
    "\n",
    "from IPython.display import Image\n",
    "from IPython.display import HTML\n",
    "import matplotlib.pyplot as plt\n",
    "import numpy as np\n",
    "import numpy.random as npr\n",
    "import math"
   ]
  },
  {
   "cell_type": "markdown",
   "metadata": {},
   "source": [
    "# Descrição da Atividade"
   ]
  },
  {
   "cell_type": "markdown",
   "metadata": {
    "collapsed": true
   },
   "source": [
    "### Def para Converter Binário ---> Decimal"
   ]
  },
  {
   "cell_type": "code",
   "execution_count": null,
   "metadata": {},
   "outputs": [],
   "source": [
    "def converterd_b(n):\n",
    "    binario = \"\"\n",
    "    while(True):\n",
    "        binario = binario + str(n%2)\n",
    "        print(binario)\n",
    "        n = n//2\n",
    "        if n == 0:\n",
    "            break\n",
    "    binario = binario[::-1]\n",
    "    binario = int(binario)\n",
    "    return binario\n",
    "\n",
    "print ('Valor em binário: ',converterd_b(777))"
   ]
  },
  {
   "cell_type": "markdown",
   "metadata": {},
   "source": [
    "### Def para Converter Decimal ---> Binário "
   ]
  },
  {
   "cell_type": "code",
   "execution_count": null,
   "metadata": {},
   "outputs": [],
   "source": [
    "def converterb_d(n):\n",
    "    decimal = 0\n",
    "    n = str(n)\n",
    "    n = n[::-1]\n",
    "    tam = len(n)\n",
    "    for i in range(tam):\n",
    "        if n[i] == \"1\":\n",
    "            decimal = decimal + 2**i\n",
    "    return decimal\n",
    "\n",
    "print ('Valor em Decimal: ',converterb_d(1100001001))"
   ]
  },
  {
   "cell_type": "markdown",
   "metadata": {},
   "source": [
    "### Def para Converter 0.1 ---> Binário "
   ]
  },
  {
   "cell_type": "code",
   "execution_count": null,
   "metadata": {},
   "outputs": [],
   "source": [
    "        # Converts decimal fraction to binary fraction\n",
    "        binaryFraction = ['0.1']\n",
    "\n",
    "        if fractionDecimal > 0:\n",
    "            binaryFraction = []\n",
    "\n",
    "            while fractionDecimal < 1 and fractionDecimal > 0:\n",
    "                if fractionDecimal * 2 > 1:\n",
    "                    binaryFraction.append('1')\n",
    "                    fractionDecimal = (fractionDecimal * 2) - 1\n",
    "\n",
    "                elif fractionDecimal * 2 < 1:\n",
    "                    binaryFraction.append('0')\n",
    "                    fractionDecimal = fractionDecimal * 2\n",
    "\n",
    "                elif fractionDecimal * 2 == 1:\n",
    "                    binaryFraction.append('1')\n",
    "                    fractionDecimal = 666  # ends 'while' loop\n",
    "\n",
    "            while len(binaryFraction) < 16:\n",
    "                binaryFraction.append('0')\n",
    "\n",
    "        binaryFraction = ''.join(binaryFraction)\n",
    "\n",
    "        unsignedBin = binarySpacing(binaryWhole, decimalFloat) + '.' + binaryFraction[0:16]\n",
    "        dec2UnsignedBinDict = {'unsignedBin': unsignedBin, 'sign': sign}\n",
    "        result = str(dec2UnsignedBinDict['sign'] + dec2UnsignedBinDict['unsignedBin'])\n",
    "\n",
    "        print (result)"
   ]
  },
  {
   "cell_type": "markdown",
   "metadata": {},
   "source": [
    "https://github.com/MatthewJamesHanson/BinaryConverter/blob/master/12-9-17.py"
   ]
  }
 ],
 "metadata": {
  "kernelspec": {
   "display_name": "Python 3",
   "language": "python",
   "name": "python3"
  },
  "language_info": {
   "codemirror_mode": {
    "name": "ipython",
    "version": 3
   },
   "file_extension": ".py",
   "mimetype": "text/x-python",
   "name": "python",
   "nbconvert_exporter": "python",
   "pygments_lexer": "ipython3",
   "version": "3.6.5"
  }
 },
 "nbformat": 4,
 "nbformat_minor": 2
}
